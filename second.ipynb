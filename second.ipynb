{
 "cells": [
  {
   "cell_type": "code",
   "execution_count": 1,
   "metadata": {},
   "outputs": [
    {
     "name": "stdout",
     "output_type": "stream",
     "text": [
      "hello world\n",
      "hello world\n",
      "hello world\n"
     ]
    }
   ],
   "source": [
    "print(\"hello world\")\n",
    "print(\"hello world\")\n",
    "print(\"hello world\")\n"
   ]
  },
  {
   "cell_type": "code",
   "execution_count": 13,
   "metadata": {},
   "outputs": [
    {
     "name": "stdout",
     "output_type": "stream",
     "text": [
      "I like to eat mango\n",
      "I like to eat pinapple\n",
      "I like to eat orange\n",
      "I like to \n",
      "\n",
      "\n",
      "\n",
      "\n",
      "        eat guava\n"
     ]
    }
   ],
   "source": [
    "print(\"I like to eat mango\")\n",
    "print('I like to eat pinapple')\n",
    "print(\"\"\"I like to eat orange\"\"\")\n",
    "print('''I like to \n",
    "\n",
    "\n",
    "\n",
    "\n",
    "        eat guava''')"
   ]
  },
  {
   "cell_type": "code",
   "execution_count": 14,
   "metadata": {},
   "outputs": [
    {
     "name": "stdout",
     "output_type": "stream",
     "text": [
      "apple mango ornage\n",
      "this is krishna\n"
     ]
    }
   ],
   "source": [
    "print(\"apple\",\"mango\",\"ornage\")\n",
    "print(\"this is krishna\")"
   ]
  },
  {
   "cell_type": "code",
   "execution_count": 20,
   "metadata": {},
   "outputs": [
    {
     "name": "stdout",
     "output_type": "stream",
     "text": [
      "apple India mango India ornage\n",
      "\n",
      "\n",
      "this is krishna\n"
     ]
    }
   ],
   "source": [
    "print(\"apple\",\"mango\",\"ornage\",sep=\" India \",end=\"\\n\\n\\n\")\n",
    "print(\"this is krishna\")"
   ]
  },
  {
   "cell_type": "code",
   "execution_count": 16,
   "metadata": {},
   "outputs": [
    {
     "name": "stdout",
     "output_type": "stream",
     "text": [
      "apple$mango$ornage\n",
      "this is krishna\n"
     ]
    }
   ],
   "source": [
    "print(\"apple\",\"mango\",\"ornage\",sep=\"$\")\n",
    "print(\"this is krishna\")"
   ]
  },
  {
   "cell_type": "code",
   "execution_count": 21,
   "metadata": {},
   "outputs": [
    {
     "name": "stdout",
     "output_type": "stream",
     "text": [
      "apple$Indiamango$Indiaornage\n",
      "this is krishna\n"
     ]
    }
   ],
   "source": [
    "print(\"apple\",\"mango\",\"ornage\",sep=\"$India\")\n",
    "print(\"this is krishna\")"
   ]
  },
  {
   "cell_type": "code",
   "execution_count": 22,
   "metadata": {},
   "outputs": [
    {
     "name": "stdout",
     "output_type": "stream",
     "text": [
      "apple India mango India ornagethis is krishna\n"
     ]
    }
   ],
   "source": [
    "print(\"apple\",\"mango\",\"ornage\",sep=\" India \",end=\"\")\n",
    "print(\"this is krishna\")"
   ]
  },
  {
   "cell_type": "code",
   "execution_count": 23,
   "metadata": {},
   "outputs": [
    {
     "name": "stdout",
     "output_type": "stream",
     "text": [
      "apple India mango India ornagethis is krishna\n",
      "this is python \n",
      "ew batch\n"
     ]
    }
   ],
   "source": [
    "print(\"apple\",\"mango\",\"ornage\",sep=\" India \",end=\"\")\n",
    "print(\"this is krishna\")\n",
    "print(\"this is python \\new batch\")"
   ]
  },
  {
   "cell_type": "code",
   "execution_count": 24,
   "metadata": {},
   "outputs": [
    {
     "name": "stdout",
     "output_type": "stream",
     "text": [
      "this is krishna's laptop\n"
     ]
    }
   ],
   "source": [
    "print(\"this is krishna's laptop\")"
   ]
  },
  {
   "cell_type": "code",
   "execution_count": 27,
   "metadata": {},
   "outputs": [
    {
     "name": "stdout",
     "output_type": "stream",
     "text": [
      "this is krishna's latpop\n"
     ]
    }
   ],
   "source": [
    "print('this is krishna\\'s latpop')"
   ]
  },
  {
   "cell_type": "code",
   "execution_count": 29,
   "metadata": {},
   "outputs": [
    {
     "name": "stdout",
     "output_type": "stream",
     "text": [
      "You are so \"Intelligent\" \n"
     ]
    }
   ],
   "source": [
    "print(\"You are so \\\"Intelligent\\\" \")"
   ]
  },
  {
   "cell_type": "code",
   "execution_count": 30,
   "metadata": {},
   "outputs": [
    {
     "name": "stdout",
     "output_type": "stream",
     "text": [
      "You are so \"Intelligent\" \n"
     ]
    }
   ],
   "source": [
    "print('You are so \"Intelligent\" ')"
   ]
  },
  {
   "cell_type": "code",
   "execution_count": 31,
   "metadata": {},
   "outputs": [
    {
     "name": "stdout",
     "output_type": "stream",
     "text": [
      "I like to have \tea\n"
     ]
    }
   ],
   "source": [
    "print(\"I like to have \\tea\")"
   ]
  },
  {
   "cell_type": "code",
   "execution_count": 32,
   "metadata": {},
   "outputs": [
    {
     "name": "stdout",
     "output_type": "stream",
     "text": [
      "I amold enought to fight\n"
     ]
    }
   ],
   "source": [
    "print(\"I am \\bold enought to fight\")"
   ]
  },
  {
   "cell_type": "code",
   "execution_count": 34,
   "metadata": {},
   "outputs": [
    {
     "name": "stdout",
     "output_type": "stream",
     "text": [
      "I like to have \\tea and I am \\bold enought to fight\n"
     ]
    }
   ],
   "source": [
    "print(r\"I like to have \\tea and I am \\bold enought to fight\")"
   ]
  },
  {
   "cell_type": "code",
   "execution_count": 36,
   "metadata": {},
   "outputs": [
    {
     "name": "stdout",
     "output_type": "stream",
     "text": [
      "C:\\Users\\Ducat\\Desktop\\class_on_git\\WE_Python_6_PM27-5-2023\n"
     ]
    }
   ],
   "source": [
    "print(r\"C:\\Users\\Ducat\\Desktop\\class_on_git\\WE_Python_6_PM27-5-2023\")"
   ]
  },
  {
   "cell_type": "code",
   "execution_count": null,
   "metadata": {},
   "outputs": [],
   "source": []
  }
 ],
 "metadata": {
  "kernelspec": {
   "display_name": "Python 3",
   "language": "python",
   "name": "python3"
  },
  "language_info": {
   "codemirror_mode": {
    "name": "ipython",
    "version": 3
   },
   "file_extension": ".py",
   "mimetype": "text/x-python",
   "name": "python",
   "nbconvert_exporter": "python",
   "pygments_lexer": "ipython3",
   "version": "3.11.3"
  },
  "orig_nbformat": 4
 },
 "nbformat": 4,
 "nbformat_minor": 2
}
